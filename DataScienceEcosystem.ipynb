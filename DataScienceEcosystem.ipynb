{
 "cells": [
  {
   "cell_type": "markdown",
   "id": "1ddeeb3b-4118-46e8-9dc1-180b4ac1847b",
   "metadata": {},
   "source": [
    "# Data Science Tools and Ecosystem"
   ]
  },
  {
   "cell_type": "markdown",
   "id": "822f5678-986a-4e70-a5ad-1b50e076f78d",
   "metadata": {},
   "source": [
    "### Summary of tools and Ecosystens used in Data Science "
   ]
  },
  {
   "cell_type": "markdown",
   "id": "331d2a07-7142-4d3a-b165-5524e29d0280",
   "metadata": {},
   "source": [
    "**Objectives:**\n",
    "\n",
    "1. List the most popular languages used in Data Science\n",
    "2. Lists some of the libraries used by data scientists\n",
    "3. Show how to perform simple arithmetic operations in python"
   ]
  },
  {
   "cell_type": "markdown",
   "id": "2d36c70c-0408-4ca6-ac30-845dd4dd8262",
   "metadata": {},
   "source": [
    "#### *List of top languages used in Data Science*"
   ]
  },
  {
   "cell_type": "markdown",
   "id": "25b15d97-a378-435a-bfe1-7671732fad33",
   "metadata": {},
   "source": [
    "- Python\n",
    "- R\n",
    "- SQL"
   ]
  },
  {
   "cell_type": "markdown",
   "id": "f608d85d-7768-4b9e-9633-dcababa4017d",
   "metadata": {},
   "source": [
    "#### *Some of the most used libraries in Data Science are:*"
   ]
  },
  {
   "cell_type": "markdown",
   "id": "7954b602-d31d-4c9e-aadc-fabbcb19f72c",
   "metadata": {},
   "source": [
    "- Numpy\n",
    "- Pandas\n",
    "- Matplotlib"
   ]
  },
  {
   "cell_type": "markdown",
   "id": "fc740b4b-c97b-4695-9dc3-3bbe1dfde3bd",
   "metadata": {},
   "source": [
    "| Data Science Tools |\n",
    "|--------------------|\n",
    "| Jupyter Notebook   |\n",
    "| RStudio            |\n",
    "| GitHub             |"
   ]
  },
  {
   "cell_type": "markdown",
   "id": "6076f20d-abaf-4f20-bd14-f03d1a9ad0bc",
   "metadata": {},
   "source": [
    "### *Below are some arithmetic expressions used in Python*"
   ]
  },
  {
   "cell_type": "code",
   "execution_count": 2,
   "id": "3b59d0e8-2fa2-44f8-8c40-12946dd82d37",
   "metadata": {},
   "outputs": [
    {
     "data": {
      "text/plain": [
       "17"
      ]
     },
     "execution_count": 2,
     "metadata": {},
     "output_type": "execute_result"
    }
   ],
   "source": [
    "# This a simple arithmetic expression to mutiply then add integers\n",
    "(3*4)+5"
   ]
  },
  {
   "cell_type": "code",
   "execution_count": 3,
   "id": "2b15fe57-31b2-4002-ba04-414d50bad1b0",
   "metadata": {},
   "outputs": [
    {
     "data": {
      "text/plain": [
       "3.3333333333333335"
      ]
     },
     "execution_count": 3,
     "metadata": {},
     "output_type": "execute_result"
    }
   ],
   "source": [
    "# This will convert 200 minutes to hours by diving by 60\n",
    "200 / 60"
   ]
  },
  {
   "cell_type": "markdown",
   "id": "42c81103-c86b-44ba-9704-c7374c8a26eb",
   "metadata": {},
   "source": [
    "## Author:\n",
    "Felipe Wallace Cordeiro Muniz"
   ]
  },
  {
   "cell_type": "code",
   "execution_count": null,
   "id": "add77676-54a4-4ace-bdd0-99f85c5b2e26",
   "metadata": {},
   "outputs": [],
   "source": []
  }
 ],
 "metadata": {
  "kernelspec": {
   "display_name": "Python",
   "language": "python",
   "name": "conda-env-python-py"
  },
  "language_info": {
   "codemirror_mode": {
    "name": "ipython",
    "version": 3
   },
   "file_extension": ".py",
   "mimetype": "text/x-python",
   "name": "python",
   "nbconvert_exporter": "python",
   "pygments_lexer": "ipython3",
   "version": "3.7.12"
  }
 },
 "nbformat": 4,
 "nbformat_minor": 5
}
